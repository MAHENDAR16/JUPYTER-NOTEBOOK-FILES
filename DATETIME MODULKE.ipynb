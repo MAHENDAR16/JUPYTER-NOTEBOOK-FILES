{
 "cells": [
  {
   "cell_type": "code",
   "execution_count": 2,
   "metadata": {},
   "outputs": [
    {
     "name": "stdout",
     "output_type": "stream",
     "text": [
      "2021-04-21 19:31:40.513583\n",
      "2021-04-21 14:01:40.513583\n"
     ]
    }
   ],
   "source": [
    "import datetime\n",
    "print(datetime.datetime.now())\n",
    "print(datetime.datetime.utcnow())"
   ]
  },
  {
   "cell_type": "code",
   "execution_count": 4,
   "metadata": {},
   "outputs": [
    {
     "name": "stdout",
     "output_type": "stream",
     "text": [
      "time.struct_time(tm_year=2021, tm_mon=4, tm_mday=21, tm_hour=19, tm_min=34, tm_sec=2, tm_wday=2, tm_yday=111, tm_isdst=0)\n"
     ]
    }
   ],
   "source": [
    "import time\n",
    "print(time.localtime())"
   ]
  },
  {
   "cell_type": "code",
   "execution_count": 7,
   "metadata": {},
   "outputs": [
    {
     "name": "stdout",
     "output_type": "stream",
     "text": [
      "19:35:05\n"
     ]
    }
   ],
   "source": [
    "print(time.strftime('%H:%M:%S', time.localtime()))"
   ]
  },
  {
   "cell_type": "code",
   "execution_count": 8,
   "metadata": {},
   "outputs": [
    {
     "name": "stdout",
     "output_type": "stream",
     "text": [
      "2021-04-21 19:35:52.555230\n"
     ]
    }
   ],
   "source": [
    "print(datetime.datetime.today())"
   ]
  },
  {
   "cell_type": "code",
   "execution_count": 22,
   "metadata": {},
   "outputs": [
    {
     "data": {
      "text/plain": [
       "datetime.datetime(1900, 1, 1, 19, 35, 23)"
      ]
     },
     "execution_count": 22,
     "metadata": {},
     "output_type": "execute_result"
    }
   ],
   "source": [
    "t = '19:35:23'\n",
    "d = datetime.datetime.strptime(t, '%H:%M:%S')\n",
    "d"
   ]
  },
  {
   "cell_type": "code",
   "execution_count": 23,
   "metadata": {},
   "outputs": [
    {
     "name": "stdout",
     "output_type": "stream",
     "text": [
      "23:35:23\n"
     ]
    }
   ],
   "source": [
    "d = d + datetime.timedelta(hours = 4)\n",
    "print(datetime.datetime.strftime(d, '%H:%M:%S'))"
   ]
  },
  {
   "cell_type": "code",
   "execution_count": 25,
   "metadata": {},
   "outputs": [
    {
     "name": "stdout",
     "output_type": "stream",
     "text": [
      "21:00:23\n"
     ]
    }
   ],
   "source": [
    "t = '19:35:23'\n",
    "d = datetime.datetime.strptime(t, '%H:%M:%S')\n",
    "d = d + datetime.timedelta(minutes = 85)#ih mins>60 change can be seen in hrs\n",
    "print(datetime.datetime.strftime(d, '%H:%M:%S'))"
   ]
  },
  {
   "cell_type": "code",
   "execution_count": 30,
   "metadata": {},
   "outputs": [
    {
     "name": "stdout",
     "output_type": "stream",
     "text": [
      "19:36:48\n"
     ]
    }
   ],
   "source": [
    "t = '19:35:23'\n",
    "d = datetime.datetime.strptime(t, '%H:%M:%S')\n",
    "d = d + datetime.timedelta(seconds = 85)#ih mins>60 change can be seen in hrs\n",
    "print(datetime.datetime.strftime(d, '%H:%M:%S'))"
   ]
  },
  {
   "cell_type": "code",
   "execution_count": 40,
   "metadata": {},
   "outputs": [
    {
     "name": "stdout",
     "output_type": "stream",
     "text": [
      "120\n",
      "1.998204600000463\n"
     ]
    }
   ],
   "source": [
    "import timeit\n",
    "def fa(n):\n",
    "    if n == 1:\n",
    "        return 1\n",
    "    else:\n",
    "        return (n*fa(n-1))\n",
    "print(fa(5))\n",
    "print(timeit.timeit('x = fa(5)', globals = globals()))"
   ]
  },
  {
   "cell_type": "code",
   "execution_count": 43,
   "metadata": {},
   "outputs": [
    {
     "name": "stdout",
     "output_type": "stream",
     "text": [
      "120\n",
      "[2.2852763999999297, 1.6782796000006783, 1.9602402999989863, 1.8208537999998953]\n"
     ]
    }
   ],
   "source": [
    "import timeit\n",
    "def fa(n):\n",
    "    if n == 1:\n",
    "        return 1\n",
    "    else:\n",
    "        return (n*fa(n-1))\n",
    "print(fa(5))\n",
    "print(timeit.repeat('x = fa(5)', globals = globals(), repeat = 4))"
   ]
  },
  {
   "cell_type": "code",
   "execution_count": 51,
   "metadata": {},
   "outputs": [
    {
     "name": "stdout",
     "output_type": "stream",
     "text": [
      "[['-', 'A', 'A'], ['-', '-', 'A'], ['-', 'A', 'A'], ['A', 'A', 'A']]\n",
      "- - - A\n",
      "A - A A\n",
      "A A A A\n"
     ]
    }
   ],
   "source": [
    "l = [['A', 'A', 'B', 'A'], ['B', 'B', 'A', 'A'], ['A', 'B', 'A', 'A']]\n",
    "r = 3\n",
    "c = 4\n",
    "sl = []\n",
    "s = 0\n",
    "l = list(map(list, zip(*l)))\n",
    "for i in range(0, len(l)):\n",
    "    s = 0\n",
    "    for j in range(0, r):\n",
    "        if l[i][j] == 'A':\n",
    "            s = s + 1 \n",
    "    sl.append(s)\n",
    "l1 = []\n",
    "for i in sl:\n",
    "    j = 0\n",
    "    l2 = []\n",
    "    while j < (r-i):\n",
    "        l2.append('-')\n",
    "        j = j + 1\n",
    "    j = 0\n",
    "    while j < i:\n",
    "        l2.append('A')\n",
    "        j = j + 1\n",
    "    l1.append(l2)\n",
    "print(l1)\n",
    "l2 = list(map(list, zip(*l1)))\n",
    "for i in l2:\n",
    "    print(*i)"
   ]
  },
  {
   "cell_type": "code",
   "execution_count": null,
   "metadata": {},
   "outputs": [],
   "source": []
  }
 ],
 "metadata": {
  "kernelspec": {
   "display_name": "Python 3",
   "language": "python",
   "name": "python3"
  },
  "language_info": {
   "codemirror_mode": {
    "name": "ipython",
    "version": 3
   },
   "file_extension": ".py",
   "mimetype": "text/x-python",
   "name": "python",
   "nbconvert_exporter": "python",
   "pygments_lexer": "ipython3",
   "version": "3.8.5"
  }
 },
 "nbformat": 4,
 "nbformat_minor": 4
}
