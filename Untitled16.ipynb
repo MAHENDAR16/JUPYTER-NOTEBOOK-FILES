{
 "cells": [
  {
   "cell_type": "code",
   "execution_count": 1,
   "metadata": {},
   "outputs": [],
   "source": [
    "import numpy.linalg as la\n"
   ]
  },
  {
   "cell_type": "code",
   "execution_count": 3,
   "metadata": {},
   "outputs": [
    {
     "name": "stdout",
     "output_type": "stream",
     "text": [
      "[[ 2. -1.]\n",
      " [-1.  1.]]\n"
     ]
    }
   ],
   "source": [
    "l = [[1,1],[1,2]]\n",
    "print(la.inv(l))"
   ]
  },
  {
   "cell_type": "code",
   "execution_count": 12,
   "metadata": {},
   "outputs": [
    {
     "name": "stdout",
     "output_type": "stream",
     "text": [
      "Name : Ram\n",
      "Age : 34\n",
      "['RamSam', 74]\n",
      "Ram\n",
      "74\n"
     ]
    }
   ],
   "source": [
    "class Person():\n",
    "    def __init__(self, n, a):\n",
    "        self.n = n\n",
    "        self.a = a \n",
    "    def __add__(self, new):\n",
    "        return [self.n+new.n, self.a+new.a]\n",
    "        #print(self.n + new.n)\n",
    "        #print(self.a + new.a)\n",
    "    def __str__(self):\n",
    "        return \"Name : {0}\\nAge : {1}\" .format(self.n, self.a)\n",
    "p = Person('Ram', 34)\n",
    "p1 = Person('Sam', 40)\n",
    "print(p)\n",
    "p2 = p + p1\n",
    "print(p2)\n",
    "ag = p.a + p1.a\n",
    "print(p.n)\n",
    "print(ag)"
   ]
  },
  {
   "cell_type": "code",
   "execution_count": 13,
   "metadata": {},
   "outputs": [
    {
     "name": "stdout",
     "output_type": "stream",
     "text": [
      "('A', 'B', 'C')\n",
      "('A', 'C', 'B')\n",
      "('B', 'A', 'C')\n",
      "('B', 'C', 'A')\n",
      "('C', 'A', 'B')\n",
      "('C', 'B', 'A')\n"
     ]
    }
   ],
   "source": [
    "from itertools import permutations\n",
    "for i in permutations('ABC'):\n",
    "    print(i)"
   ]
  },
  {
   "cell_type": "code",
   "execution_count": 16,
   "metadata": {},
   "outputs": [
    {
     "name": "stdout",
     "output_type": "stream",
     "text": [
      "('A', 'B')\n",
      "('A', 'C')\n",
      "('B', 'C')\n"
     ]
    }
   ],
   "source": [
    "from  itertools import combinations\n",
    "for i in combinations(\"ABC\",2):\n",
    "    print(i)"
   ]
  },
  {
   "cell_type": "code",
   "execution_count": null,
   "metadata": {},
   "outputs": [],
   "source": []
  },
  {
   "cell_type": "code",
   "execution_count": null,
   "metadata": {},
   "outputs": [],
   "source": []
  }
 ],
 "metadata": {
  "kernelspec": {
   "display_name": "Python 3",
   "language": "python",
   "name": "python3"
  },
  "language_info": {
   "codemirror_mode": {
    "name": "ipython",
    "version": 3
   },
   "file_extension": ".py",
   "mimetype": "text/x-python",
   "name": "python",
   "nbconvert_exporter": "python",
   "pygments_lexer": "ipython3",
   "version": "3.8.5"
  }
 },
 "nbformat": 4,
 "nbformat_minor": 4
}
