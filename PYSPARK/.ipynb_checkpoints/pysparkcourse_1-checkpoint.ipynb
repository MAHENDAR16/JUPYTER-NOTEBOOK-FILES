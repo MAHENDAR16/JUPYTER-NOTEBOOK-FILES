{
 "cells": [
  {
   "cell_type": "code",
   "execution_count": 24,
   "id": "194eae5b",
   "metadata": {},
   "outputs": [],
   "source": [
    "from pyspark.sql import SparkSession"
   ]
  },
  {
   "cell_type": "code",
   "execution_count": 25,
   "id": "d7b19e58",
   "metadata": {},
   "outputs": [],
   "source": [
    "spark = SparkSession.builder.appName('pyspark_course').getOrCreate()"
   ]
  },
  {
   "cell_type": "code",
   "execution_count": 26,
   "id": "edca3d57",
   "metadata": {},
   "outputs": [],
   "source": [
    "df_pyspark = spark.read.csv('tips.csv', header=True, inferSchema=True)"
   ]
  },
  {
   "cell_type": "code",
   "execution_count": 27,
   "id": "6d8c4cab",
   "metadata": {},
   "outputs": [
    {
     "name": "stdout",
     "output_type": "stream",
     "text": [
      "+----------+----+------+------+---+------+----+\n",
      "|total_bill| tip|   sex|smoker|day|  time|size|\n",
      "+----------+----+------+------+---+------+----+\n",
      "|     16.99|1.01|Female|    No|Sun|Dinner|   2|\n",
      "|     10.34|1.66|  Male|    No|Sun|Dinner|   3|\n",
      "|     21.01| 3.5|  Male|    No|Sun|Dinner|   3|\n",
      "|     23.68|3.31|  Male|    No|Sun|Dinner|   2|\n",
      "|     24.59|3.61|Female|    No|Sun|Dinner|   4|\n",
      "+----------+----+------+------+---+------+----+\n",
      "only showing top 5 rows\n",
      "\n"
     ]
    }
   ],
   "source": [
    "df_pyspark.show(5)"
   ]
  },
  {
   "cell_type": "code",
   "execution_count": 28,
   "id": "18cdd694",
   "metadata": {},
   "outputs": [],
   "source": [
    "df_pyspark.createOrReplaceGlobalTempView(\"hotel_data\")"
   ]
  },
  {
   "cell_type": "code",
   "execution_count": 31,
   "id": "4b2ff087",
   "metadata": {},
   "outputs": [
    {
     "name": "stdout",
     "output_type": "stream",
     "text": [
      "+------+---+\n",
      "|   sex|cnt|\n",
      "+------+---+\n",
      "|Female| 87|\n",
      "|  Male|157|\n",
      "+------+---+\n",
      "\n"
     ]
    }
   ],
   "source": [
    "sql1 = \"select sex, count(*) as cnt from global_temp.hotel_data group by sex\"\n",
    "spark.sql(sql1).show()"
   ]
  },
  {
   "cell_type": "code",
   "execution_count": 32,
   "id": "45d1d673",
   "metadata": {},
   "outputs": [
    {
     "name": "stdout",
     "output_type": "stream",
     "text": [
      "+------+------------------+-----------------+---------+\n",
      "|   sex|   sum(total_bill)|         sum(tip)|sum(size)|\n",
      "+------+------------------+-----------------+---------+\n",
      "|Female|1570.9499999999998|           246.51|      214|\n",
      "|  Male|3256.8200000000024|485.0700000000001|      413|\n",
      "+------+------------------+-----------------+---------+\n",
      "\n"
     ]
    }
   ],
   "source": [
    "df_pyspark.groupBy(\"sex\").sum().show()"
   ]
  },
  {
   "cell_type": "code",
   "execution_count": 33,
   "id": "89459784",
   "metadata": {},
   "outputs": [
    {
     "name": "stdout",
     "output_type": "stream",
     "text": [
      "+------+-----------------+\n",
      "|   sex|         sum(tip)|\n",
      "+------+-----------------+\n",
      "|Female|           246.51|\n",
      "|  Male|485.0700000000001|\n",
      "+------+-----------------+\n",
      "\n"
     ]
    }
   ],
   "source": [
    "df_pyspark.groupBy(\"sex\").sum(\"tip\").show()"
   ]
  },
  {
   "cell_type": "code",
   "execution_count": null,
   "id": "3d657f1e",
   "metadata": {},
   "outputs": [],
   "source": []
  }
 ],
 "metadata": {
  "kernelspec": {
   "display_name": "Python 3 (ipykernel)",
   "language": "python",
   "name": "python3"
  },
  "language_info": {
   "codemirror_mode": {
    "name": "ipython",
    "version": 3
   },
   "file_extension": ".py",
   "mimetype": "text/x-python",
   "name": "python",
   "nbconvert_exporter": "python",
   "pygments_lexer": "ipython3",
   "version": "3.9.12"
  }
 },
 "nbformat": 4,
 "nbformat_minor": 5
}
