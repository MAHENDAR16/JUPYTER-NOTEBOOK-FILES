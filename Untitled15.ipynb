{
 "cells": [
  {
   "cell_type": "code",
   "execution_count": 9,
   "metadata": {},
   "outputs": [
    {
     "name": "stdout",
     "output_type": "stream",
     "text": [
      "name : joe \n",
      "color : red\n"
     ]
    }
   ],
   "source": [
    "class Person:\n",
    "    def __init__ (self, n, c):\n",
    "        self.n = n\n",
    "        self.c = c\n",
    "    def __str__ (self):\n",
    "        return \"name : {0} \\ncolor : {1}\".format(self.n, self.c);\n",
    "p = Person('joe', 'red')\n",
    "print(p)"
   ]
  },
  {
   "cell_type": "code",
   "execution_count": 24,
   "metadata": {},
   "outputs": [
    {
     "name": "stdout",
     "output_type": "stream",
     "text": [
      "50\n",
      "10\n"
     ]
    }
   ],
   "source": [
    "class Person:\n",
    "    \n",
    "    def __init__ (self, n, c, w):\n",
    "        self.n = n\n",
    "        self.c = c\n",
    "        self.w = w\n",
    "    def __str__ (self):\n",
    "        return \"name : {0} \\ncolor : {1}\\nweight : {2}\".format(self.n, self.c, self.w);\n",
    "    def __add__(self, new):\n",
    "        return self.w + new.w\n",
    "    def __sub__(self, new):\n",
    "        return self.w - new.w\n",
    "p = Person('joe', 'red', 30)\n",
    "p1 = Person('sam', 'blue', 20)\n",
    "p2 = p+p1\n",
    "p3 = p-p1\n",
    "#p2.c = 'green'\n",
    "print(p2)\n",
    "print(p3)"
   ]
  },
  {
   "cell_type": "code",
   "execution_count": 28,
   "metadata": {},
   "outputs": [
    {
     "name": "stdout",
     "output_type": "stream",
     "text": [
      "True\n",
      "False\n"
     ]
    }
   ],
   "source": [
    "print(isinstance(p, Person))\n",
    "print(isinstance(p2, Person))"
   ]
  },
  {
   "cell_type": "code",
   "execution_count": 44,
   "metadata": {},
   "outputs": [
    {
     "name": "stdout",
     "output_type": "stream",
     "text": [
      "golf\n",
      "f\n",
      "l\n",
      "o\n",
      "g\n"
     ]
    }
   ],
   "source": [
    "def rev(data):\n",
    "    print(data)\n",
    "    return data[::-1]\n",
    "  #  for i in data[::-1]:\n",
    " #       print(i)\n",
    "#     yield i\n",
    "for c in rev('golf'):\n",
    "    print(c)\n",
    "    "
   ]
  },
  {
   "cell_type": "code",
   "execution_count": 40,
   "metadata": {},
   "outputs": [
    {
     "name": "stdout",
     "output_type": "stream",
     "text": [
      "NAME : ram\n",
      "RNO : 23\n",
      "NAME : 23\n",
      "RNO : ram\n",
      "MARKS : 100\n"
     ]
    }
   ],
   "source": [
    "class Student():\n",
    "    def __init__(self, n, rno):\n",
    "        self.rno = rno\n",
    "        self. n = n\n",
    "    def __str__(self):\n",
    "        return \"NAME : {0}\\nRNO : {1}\".format(self.n,self.rno)\n",
    "        \n",
    "class Rank(Student):\n",
    "    def __init__(self,m, new):\n",
    "        self.m = m\n",
    "        super().__init__(new.rno, new.n)\n",
    "    def __str__(self):\n",
    "        return \"NAME : {0}\\nRNO : {1}\\nMARKS : {2}\".format(self.n,self.rno, self.m)\n",
    "        \n",
    "s = Student('ram', '23')\n",
    "print(s)\n",
    "r = Rank(100, s)\n",
    "print(r)"
   ]
  }
 ],
 "metadata": {
  "kernelspec": {
   "display_name": "Python 3",
   "language": "python",
   "name": "python3"
  },
  "language_info": {
   "codemirror_mode": {
    "name": "ipython",
    "version": 3
   },
   "file_extension": ".py",
   "mimetype": "text/x-python",
   "name": "python",
   "nbconvert_exporter": "python",
   "pygments_lexer": "ipython3",
   "version": "3.8.5"
  }
 },
 "nbformat": 4,
 "nbformat_minor": 4
}
