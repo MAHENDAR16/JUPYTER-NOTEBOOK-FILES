{
 "cells": [
  {
   "cell_type": "code",
   "execution_count": 1,
   "metadata": {},
   "outputs": [],
   "source": [
    "import datetime\n",
    "d = datetime.datetime.today()"
   ]
  },
  {
   "cell_type": "code",
   "execution_count": 2,
   "metadata": {},
   "outputs": [
    {
     "data": {
      "text/plain": [
       "datetime.datetime(2021, 6, 24, 22, 19, 58, 897047)"
      ]
     },
     "execution_count": 2,
     "metadata": {},
     "output_type": "execute_result"
    }
   ],
   "source": [
    "d"
   ]
  },
  {
   "cell_type": "code",
   "execution_count": 11,
   "metadata": {},
   "outputs": [
    {
     "name": "stdout",
     "output_type": "stream",
     "text": [
      "25-Jan-2021\n",
      "19-Feb-2021\n",
      "16-Mar-2021\n",
      "10-Apr-2021\n",
      "05-May-2021\n",
      "30-May-2021\n",
      "24-Jun-2021\n",
      "19-Jul-2021\n",
      "13-Aug-2021\n",
      "07-Sep-2021\n",
      "02-Oct-2021\n",
      "27-Oct-2021\n",
      "21-Nov-2021\n",
      "16-Dec-2021\n"
     ]
    }
   ],
   "source": [
    "d = datetime.date(2021, 1, 1)\n",
    "d = d + datetime.timedelta(days = 24)\n",
    "while d.year == 2021:\n",
    "    print(d.strftime(\"%d-%b-%Y\"))\n",
    "    d = d + datetime.timedelta(days = 25)\n"
   ]
  }
 ],
 "metadata": {
  "kernelspec": {
   "display_name": "Python 3",
   "language": "python",
   "name": "python3"
  },
  "language_info": {
   "codemirror_mode": {
    "name": "ipython",
    "version": 3
   },
   "file_extension": ".py",
   "mimetype": "text/x-python",
   "name": "python",
   "nbconvert_exporter": "python",
   "pygments_lexer": "ipython3",
   "version": "3.8.5"
  }
 },
 "nbformat": 4,
 "nbformat_minor": 4
}
