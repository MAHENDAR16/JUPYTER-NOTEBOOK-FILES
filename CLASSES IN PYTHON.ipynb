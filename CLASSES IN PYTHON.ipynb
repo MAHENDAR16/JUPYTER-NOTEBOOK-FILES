{
 "cells": [
  {
   "cell_type": "code",
   "execution_count": 1,
   "metadata": {},
   "outputs": [],
   "source": [
    "import numpy.linalg as la\n"
   ]
  },
  {
   "cell_type": "code",
   "execution_count": 3,
   "metadata": {},
   "outputs": [
    {
     "name": "stdout",
     "output_type": "stream",
     "text": [
      "[[ 2. -1.]\n",
      " [-1.  1.]]\n"
     ]
    }
   ],
   "source": [
    "l = [[1,1],[1,2]]\n",
    "print(la.inv(l))"
   ]
  },
  {
   "cell_type": "code",
   "execution_count": 12,
   "metadata": {},
   "outputs": [
    {
     "name": "stdout",
     "output_type": "stream",
     "text": [
      "Name : Ram\n",
      "Age : 34\n",
      "['RamSam', 74]\n",
      "Ram\n",
      "74\n"
     ]
    }
   ],
   "source": [
    "class Person():\n",
    "    def __init__(self, n, a):\n",
    "        self.n = n\n",
    "        self.a = a \n",
    "    def __add__(self, new):\n",
    "        return [self.n+new.n, self.a+new.a]\n",
    "        #print(self.n + new.n)\n",
    "        #print(self.a + new.a)\n",
    "    def __str__(self):\n",
    "        return \"Name : {0}\\nAge : {1}\" .format(self.n, self.a)\n",
    "p = Person('Ram', 34)\n",
    "p1 = Person('Sam', 40)\n",
    "print(p)\n",
    "p2 = p + p1\n",
    "print(p2)\n",
    "ag = p.a + p1.a\n",
    "print(p.n)\n",
    "print(ag)"
   ]
  },
  {
   "cell_type": "code",
   "execution_count": 13,
   "metadata": {},
   "outputs": [
    {
     "name": "stdout",
     "output_type": "stream",
     "text": [
      "('A', 'B', 'C')\n",
      "('A', 'C', 'B')\n",
      "('B', 'A', 'C')\n",
      "('B', 'C', 'A')\n",
      "('C', 'A', 'B')\n",
      "('C', 'B', 'A')\n"
     ]
    }
   ],
   "source": [
    "from itertools import permutations\n",
    "for i in permutations('ABC'):\n",
    "    print(i)"
   ]
  },
  {
   "cell_type": "code",
   "execution_count": 16,
   "metadata": {},
   "outputs": [
    {
     "name": "stdout",
     "output_type": "stream",
     "text": [
      "('A', 'B')\n",
      "('A', 'C')\n",
      "('B', 'C')\n"
     ]
    }
   ],
   "source": [
    "from  itertools import combinations\n",
    "for i in combinations(\"ABC\",2):\n",
    "    print(i)"
   ]
  },
  {
   "cell_type": "code",
   "execution_count": 22,
   "metadata": {},
   "outputs": [
    {
     "name": "stdout",
     "output_type": "stream",
     "text": [
      "NAME : Idly \n",
      "PRICE : 30\n",
      "NAME : Idly \n",
      "PRICE : 30\n",
      "NAME : Vada \n",
      "PRICE : 10\n",
      "NAME : Noodles \n",
      "PRICE : 70\n",
      "********************\n",
      "True\n"
     ]
    }
   ],
   "source": [
    "class Food():\n",
    "    def __init__(self, n, p):\n",
    "        self.name = n\n",
    "        self.price = p\n",
    "    #def __str__(self):\n",
    "     #   return \"NAME : {0} \\nPRICE : {1}\".format(self.name, self.price)\n",
    "    def __lt__(self, new):\n",
    "        return self.price>new.price\n",
    "    def __eq__(self, new):\n",
    "        return self.price == new.price\n",
    "    def __repr__(self):\n",
    "        return \"NAME : {0} \\nPRICE : {1}\".format(self.name, self.price)\n",
    "l = []\n",
    "l.append(Food(\"Idly\", 30))\n",
    "l.append(Food(\"Idly\", 30))\n",
    "l.append(Food(\"Vada\", 10))\n",
    "l.append(Food(\"Noodles\", 70))\n",
    "\n",
    "for i in l:\n",
    "    print(i)\n",
    "print('*'*20, sep = ' ')\n",
    "#for i in sorted(l):\n",
    " #   print(i)\n",
    "print(l[0] == l[1])"
   ]
  },
  {
   "cell_type": "code",
   "execution_count": 8,
   "metadata": {},
   "outputs": [
    {
     "name": "stdout",
     "output_type": "stream",
     "text": [
      "NAME : Ram\n",
      "SALARY : 10000\n",
      "NAME : Sundar\n",
      "SALARY : 20000\n",
      "100\n",
      "100\n",
      "900\n"
     ]
    }
   ],
   "source": [
    "class Employee():\n",
    "    r_m = 100\n",
    "    def __init__(self, n, s):\n",
    "        self.name = n \n",
    "        self.salary = s\n",
    "    def __str__(self):\n",
    "        return \"NAME : {0}\\nSALARY : {1}\".format(self.name, self.salary)\n",
    "e1 = Employee('Ram', 10000)\n",
    "e2 = Employee('Sundar', 20000)\n",
    "print(e1)\n",
    "print(e2)\n",
    "print(Employee.r_m)\n",
    "e1.r_m = 900\n",
    "print(Employee.r_m)\n",
    "print(e1.r_m)"
   ]
  },
  {
   "cell_type": "code",
   "execution_count": 21,
   "metadata": {},
   "outputs": [
    {
     "name": "stdout",
     "output_type": "stream",
     "text": [
      "100\n",
      "2000\n",
      "2000\n"
     ]
    }
   ],
   "source": [
    "class Employee():\n",
    "    \n",
    "    r_m = 100\n",
    "    \n",
    "    def __init__(self, n, s):\n",
    "        self.name = n \n",
    "        self.salary = s\n",
    "    \n",
    "    @classmethod\n",
    "    def increase(cls, a):\n",
    "        cls.r_m = a\n",
    "\n",
    "    def __str__(self):\n",
    "        return \"NAME : {0}\\nSALARY : {1}\".format(self.name, self.salary)\n",
    "\n",
    "e1 = Employee('Ram', 10000)\n",
    "e2 = Employee('Sundar', 20000)\n",
    "print(Employee.r_m)\n",
    "Employee.increase(2000)\n",
    "print(e1.r_m)\n",
    "print(Employee.r_m)"
   ]
  },
  {
   "cell_type": "code",
   "execution_count": 26,
   "metadata": {},
   "outputs": [
    {
     "name": "stdout",
     "output_type": "stream",
     "text": [
      "NAME : Sam\n",
      "SALARY : 10000\n"
     ]
    }
   ],
   "source": [
    "class Employee():\n",
    "    r_m = 100\n",
    "    def __init__(self, n, s):\n",
    "        self.name = n \n",
    "        self.salary = s\n",
    "    @classmethod # TAKES THE CLS AS FIRST ARGUEMENT AND THE CHANGE IS AFFECTED TO ALL OBECTS OF CLASS\n",
    "    def fromString(cls, st):\n",
    "        n, s = st.split('-')\n",
    "        return Employee(n, s)\n",
    "    #@staticmethod\n",
    "    def __str__(self):\n",
    "        return \"NAME : {0}\\nSALARY : {1}\".format(self.name, self.salary)\n",
    "    \n",
    "        \n",
    "s1 = 'Sam-10000'\n",
    "s2 = 'Damodar-9000'\n",
    "e1 = Employee.fromString(s1)\n",
    "print(e1)"
   ]
  },
  {
   "cell_type": "code",
   "execution_count": 30,
   "metadata": {},
   "outputs": [
    {
     "name": "stdout",
     "output_type": "stream",
     "text": [
      "Employee(taa, 661298)\n",
      "9\n"
     ]
    }
   ],
   "source": [
    "class Employee():\n",
    "    r_m = 100\n",
    "    def __init__(self, n, s):\n",
    "        self.name = n \n",
    "        self.salary = s\n",
    "    def __repr__(self):\n",
    "        return \"Employee({}, {})\".format(self.name, self.salary)\n",
    "    def __len__(self):\n",
    "        return len(self.name) + len(str(self.salary))\n",
    "e1 = Employee('taa', 661298)\n",
    "print(e1)\n",
    "print(len(e1))"
   ]
  },
  {
   "cell_type": "code",
   "execution_count": 48,
   "metadata": {},
   "outputs": [
    {
     "name": "stdout",
     "output_type": "stream",
     "text": [
      "arun fam\n",
      "arunfam\n",
      "dolph ziggler\n",
      "dolphziggler\n"
     ]
    }
   ],
   "source": [
    "class  Employee():\n",
    "    def __init__(self, fn, ln):\n",
    "        self.fn = fn \n",
    "        self.ln = ln\n",
    "        \n",
    "    @property\n",
    "    def fullname(self): \n",
    "        return self.fn + self.ln\n",
    "    @fullname.setter\n",
    "    def fullname(self, n):\n",
    "        fn, ln = n.split()\n",
    "        self.fn = fn\n",
    "        self.ln = ln\n",
    "        \n",
    "    \n",
    "    def __str__(self):\n",
    "        return \"{} {}\".format(self.fn, self.ln)\n",
    "e = Employee('arun', 'fam')\n",
    "print(e)\n",
    "print(e.fullname)# since we use property we can call the class methods like class objects\n",
    "e.fullname = 'dolph ziggler'\n",
    "print(e)\n",
    "print(e.fullname)"
   ]
  },
  {
   "cell_type": "code",
   "execution_count": null,
   "metadata": {},
   "outputs": [],
   "source": []
  },
  {
   "cell_type": "code",
   "execution_count": null,
   "metadata": {},
   "outputs": [],
   "source": []
  },
  {
   "cell_type": "code",
   "execution_count": null,
   "metadata": {},
   "outputs": [],
   "source": []
  }
 ],
 "metadata": {
  "kernelspec": {
   "display_name": "Python 3",
   "language": "python",
   "name": "python3"
  },
  "language_info": {
   "codemirror_mode": {
    "name": "ipython",
    "version": 3
   },
   "file_extension": ".py",
   "mimetype": "text/x-python",
   "name": "python",
   "nbconvert_exporter": "python",
   "pygments_lexer": "ipython3",
   "version": "3.8.5"
  }
 },
 "nbformat": 4,
 "nbformat_minor": 4
}
