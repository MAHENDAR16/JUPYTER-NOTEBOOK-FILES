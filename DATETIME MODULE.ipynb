{
 "cells": [
  {
   "cell_type": "code",
   "execution_count": 2,
   "metadata": {},
   "outputs": [
    {
     "name": "stdout",
     "output_type": "stream",
     "text": [
      "2021-06-24 22:28:18.363709\n",
      "2021-06-24 16:58:18.363709\n"
     ]
    }
   ],
   "source": [
    "import datetime\n",
    "print(datetime.datetime.now())\n",
    "print(datetime.datetime.utcnow())"
   ]
  },
  {
   "cell_type": "code",
   "execution_count": 53,
   "metadata": {},
   "outputs": [
    {
     "name": "stdout",
     "output_type": "stream",
     "text": [
      "time.struct_time(tm_year=2021, tm_mon=6, tm_mday=23, tm_hour=12, tm_min=28, tm_sec=33, tm_wday=2, tm_yday=174, tm_isdst=0)\n"
     ]
    }
   ],
   "source": [
    "import time\n",
    "print(time.localtime())"
   ]
  },
  {
   "cell_type": "code",
   "execution_count": 54,
   "metadata": {},
   "outputs": [
    {
     "data": {
      "text/plain": [
       "datetime.date(2021, 6, 23)"
      ]
     },
     "execution_count": 54,
     "metadata": {},
     "output_type": "execute_result"
    }
   ],
   "source": [
    "datetime.date.today()#only for date"
   ]
  },
  {
   "cell_type": "code",
   "execution_count": 55,
   "metadata": {},
   "outputs": [
    {
     "name": "stdout",
     "output_type": "stream",
     "text": [
      "12:28:33\n"
     ]
    }
   ],
   "source": [
    "print(time.strftime('%H:%M:%S', time.localtime()))"
   ]
  },
  {
   "cell_type": "markdown",
   "metadata": {},
   "source": [
    "# FORMATTED WAY TO PRINT TIME"
   ]
  },
  {
   "cell_type": "code",
   "execution_count": 8,
   "metadata": {
    "scrolled": true
   },
   "outputs": [
    {
     "name": "stdout",
     "output_type": "stream",
     "text": [
      "25-Jan-2021\n",
      "19-Feb-2021\n",
      "16-Mar-2021\n",
      "10-Apr-2021\n",
      "05-May-2021\n",
      "30-May-2021\n",
      "24-Jun-2021\n",
      "19-Jul-2021\n",
      "13-Aug-2021\n",
      "07-Sep-2021\n",
      "02-Oct-2021\n",
      "27-Oct-2021\n",
      "21-Nov-2021\n",
      "16-Dec-2021\n"
     ]
    }
   ],
   "source": [
    "d = datetime.date(2021, 1, 1)\n",
    "d = d + datetime.timedelta(days = 24)\n",
    "while d.year == 2021:\n",
    "    print(d.strftime(\"%d-%b-%Y\"))\n",
    "    d = d + datetime.timedelta(days = 25)"
   ]
  },
  {
   "cell_type": "code",
   "execution_count": 6,
   "metadata": {},
   "outputs": [
    {
     "data": {
      "text/plain": [
       "datetime.time(0, 0)"
      ]
     },
     "execution_count": 6,
     "metadata": {},
     "output_type": "execute_result"
    }
   ],
   "source": [
    "d = datetime.time()\n",
    "d"
   ]
  },
  {
   "cell_type": "code",
   "execution_count": 56,
   "metadata": {},
   "outputs": [
    {
     "name": "stdout",
     "output_type": "stream",
     "text": [
      "2021-06-23 12:28:33.696677\n"
     ]
    }
   ],
   "source": [
    "print(datetime.datetime.today())"
   ]
  },
  {
   "cell_type": "markdown",
   "metadata": {},
   "source": [
    "#  TIMEDELTA TO ADD A TIME TO A GIVEN TIME"
   ]
  },
  {
   "cell_type": "code",
   "execution_count": 57,
   "metadata": {},
   "outputs": [
    {
     "data": {
      "text/plain": [
       "datetime.datetime(1900, 1, 1, 19, 35, 23)"
      ]
     },
     "execution_count": 57,
     "metadata": {},
     "output_type": "execute_result"
    }
   ],
   "source": [
    "t = '19:35:23'\n",
    "\n",
    "d = datetime.datetime.strptime(t, '%H:%M:%S')\n",
    "d"
   ]
  },
  {
   "cell_type": "code",
   "execution_count": 58,
   "metadata": {},
   "outputs": [
    {
     "name": "stdout",
     "output_type": "stream",
     "text": [
      "23:35:23\n",
      "1900-01-01 23:35:23\n"
     ]
    }
   ],
   "source": [
    "d = d + datetime.timedelta(hours = 4)\n",
    "print(datetime.datetime.strftime(d, '%H:%M:%S'))\n",
    "print(d)"
   ]
  },
  {
   "cell_type": "code",
   "execution_count": 59,
   "metadata": {},
   "outputs": [
    {
     "name": "stdout",
     "output_type": "stream",
     "text": [
      "1900-01-02 19:44:52\n"
     ]
    }
   ],
   "source": [
    "print(d + datetime.timedelta(hours = 20, minutes=8, seconds = 89))"
   ]
  },
  {
   "cell_type": "code",
   "execution_count": 60,
   "metadata": {},
   "outputs": [
    {
     "name": "stdout",
     "output_type": "stream",
     "text": [
      "21:00:23\n"
     ]
    }
   ],
   "source": [
    "t = '19:35:23'\n",
    "d = datetime.datetime.strptime(t, '%H:%M:%S')\n",
    "d = d + datetime.timedelta(minutes = 85)#ih mins>60 change can be seen in hrs\n",
    "print(datetime.datetime.strftime(d, '%H:%M:%S'))"
   ]
  },
  {
   "cell_type": "code",
   "execution_count": 61,
   "metadata": {},
   "outputs": [
    {
     "name": "stdout",
     "output_type": "stream",
     "text": [
      "19:36:48\n"
     ]
    }
   ],
   "source": [
    "t = '19:35:23'\n",
    "d = datetime.datetime.strptime(t, '%H:%M:%S')\n",
    "d = d + datetime.timedelta(seconds = 85)#ih mins>60 change can be seen in hrs\n",
    "print(datetime.datetime.strftime(d, '%H:%M:%S'))"
   ]
  },
  {
   "cell_type": "code",
   "execution_count": 62,
   "metadata": {},
   "outputs": [
    {
     "name": "stdout",
     "output_type": "stream",
     "text": [
      "120\n",
      "1.9056880999999066\n"
     ]
    }
   ],
   "source": [
    "import timeit\n",
    "def fa(n):\n",
    "    if n == 1:\n",
    "        return 1\n",
    "    else:\n",
    "        return (n*fa(n-1))\n",
    "print(fa(5))\n",
    "print(timeit.timeit('x = fa(5)', globals = globals()))"
   ]
  },
  {
   "cell_type": "code",
   "execution_count": 63,
   "metadata": {},
   "outputs": [
    {
     "name": "stdout",
     "output_type": "stream",
     "text": [
      "120\n",
      "[1.525481599999921, 1.4850983999999698, 1.4817195999999058, 1.4613147999998546]\n"
     ]
    }
   ],
   "source": [
    "import timeit\n",
    "def fa(n):\n",
    "    if n == 1:\n",
    "        return 1\n",
    "    else:\n",
    "        return (n*fa(n-1))\n",
    "print(fa(5))\n",
    "print(timeit.repeat('x = fa(5)', globals = globals(), repeat = 4))"
   ]
  },
  {
   "cell_type": "code",
   "execution_count": 64,
   "metadata": {},
   "outputs": [
    {
     "name": "stdout",
     "output_type": "stream",
     "text": [
      "A B A\n",
      "A B B\n",
      "B A A\n",
      "A A A\n",
      "[2, 1, 2, 3]\n",
      "[['-', 'A', 'A'], ['-', '-', 'A'], ['-', 'A', 'A'], ['A', 'A', 'A']]\n",
      "- - - A\n",
      "A - A A\n",
      "A A A A\n"
     ]
    }
   ],
   "source": [
    "l = [['A', 'A', 'B', 'A'], ['B', 'B', 'A', 'A'], ['A', 'B', 'A', 'A']]\n",
    "r = 3\n",
    "c = 4\n",
    "sl = []\n",
    "s = 0\n",
    "\n",
    "l = list(map(list, zip(*l)))\n",
    "for i in l:\n",
    "    print(*i)\n",
    "for i in range(0, len(l)):\n",
    "    s = 0\n",
    "    for j in range(0, r):\n",
    "        if l[i][j] == 'A':\n",
    "            s = s + 1 \n",
    "    sl.append(s)\n",
    "l1 = []\n",
    "print(sl)\n",
    "for i in sl:\n",
    "    j = 0\n",
    "    l2 = []\n",
    "    while j < (r-i):\n",
    "        l2.append('-')\n",
    "        j = j + 1\n",
    "    j = 0\n",
    "    while j < i:\n",
    "        l2.append('A')\n",
    "        j = j + 1\n",
    "    l1.append(l2)\n",
    "print(l1)\n",
    "l2 = list(map(list, zip(*l1)))\n",
    "for i in l2:\n",
    "    print(*i)"
   ]
  },
  {
   "cell_type": "code",
   "execution_count": null,
   "metadata": {},
   "outputs": [],
   "source": []
  }
 ],
 "metadata": {
  "kernelspec": {
   "display_name": "Python 3",
   "language": "python",
   "name": "python3"
  },
  "language_info": {
   "codemirror_mode": {
    "name": "ipython",
    "version": 3
   },
   "file_extension": ".py",
   "mimetype": "text/x-python",
   "name": "python",
   "nbconvert_exporter": "python",
   "pygments_lexer": "ipython3",
   "version": "3.8.5"
  }
 },
 "nbformat": 4,
 "nbformat_minor": 4
}
