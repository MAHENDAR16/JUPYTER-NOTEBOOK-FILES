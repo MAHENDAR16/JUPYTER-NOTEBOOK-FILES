{
 "cells": [
  {
   "cell_type": "code",
   "execution_count": 1,
   "metadata": {},
   "outputs": [
    {
     "name": "stdout",
     "output_type": "stream",
     "text": [
      "[['2' '5' '8']\n",
      " ['1' '5' 'M']\n",
      " ['9' '7' '6']]\n",
      "--------------------\n",
      "[['2' '1' '9']\n",
      " ['5' '5' '7']\n",
      " ['8' 'M' '6']]\n",
      "true\n",
      "14\n"
     ]
    },
    {
     "data": {
      "text/plain": [
       "array([['2', '5', '8'],\n",
       "       ['1', '5', '3'],\n",
       "       ['9', '7', '6']], dtype='<U11')"
      ]
     },
     "execution_count": 1,
     "metadata": {},
     "output_type": "execute_result"
    }
   ],
   "source": [
    "import numpy as np\n",
    "l = [[2, 5, 8], [1, 5, 'M'], [9, 7, 6]]\n",
    "'''l = []\n",
    "for i in range(0,3):\n",
    "    l = [int(j) for j in input('enter values : ').split()]'''\n",
    "a = np.array(l)\n",
    "b = a.T\n",
    "s1 = 17\n",
    "s = 0\n",
    "print(a)\n",
    "print(\"-\"*20)\n",
    "print(b)\n",
    "for i in b:\n",
    "    if 'M' in i:\n",
    "        print('true')\n",
    "        for j in i:\n",
    "            if j!='M':\n",
    "                s = s + int(j)\n",
    "        print(s)       \n",
    "    i[i == 'M'] = s1 - s# index changing is important\n",
    "b.T\n",
    "                "
   ]
  },
  {
   "cell_type": "code",
   "execution_count": null,
   "metadata": {},
   "outputs": [],
   "source": []
  }
 ],
 "metadata": {
  "kernelspec": {
   "display_name": "Python 3 (ipykernel)",
   "language": "python",
   "name": "python3"
  },
  "language_info": {
   "codemirror_mode": {
    "name": "ipython",
    "version": 3
   },
   "file_extension": ".py",
   "mimetype": "text/x-python",
   "name": "python",
   "nbconvert_exporter": "python",
   "pygments_lexer": "ipython3",
   "version": "3.9.12"
  }
 },
 "nbformat": 4,
 "nbformat_minor": 4
}
